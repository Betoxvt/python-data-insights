{
 "cells": [
  {
   "cell_type": "code",
   "execution_count": null,
   "metadata": {},
   "outputs": [],
   "source": [
    "import pandas as pd\n",
    "\n",
    "# Path to CSV file\n",
    "CSV_PATH = 'data/cancelamentos.csv'\n",
    "\n",
    "# Import data, remove CustomerID column (no use here) and then display\n",
    "df = pd.read_csv(CSV_PATH)\n",
    "df = df.drop('CustomerID', axis=1)\n",
    "display(df)"
   ]
  },
  {
   "cell_type": "code",
   "execution_count": null,
   "metadata": {},
   "outputs": [],
   "source": [
    "# Data cleaning: Identify and remove empty values.\n",
    "display(df.info())\n",
    "df = df.dropna()\n",
    "display(df.info())"
   ]
  },
  {
   "cell_type": "code",
   "execution_count": null,
   "metadata": {},
   "outputs": [],
   "source": [
    "# How many cancelled and how many stayed?\n",
    "display(df['cancelou'].value_counts())\n",
    "display(df['cancelou'].value_counts(normalize=True).map('{:.2%}'.format))"
   ]
  },
  {
   "cell_type": "code",
   "execution_count": null,
   "metadata": {},
   "outputs": [],
   "source": [
    "# Customer by contract period type\n",
    "display(df['duracao_contrato'].value_counts())\n",
    "display(df['duracao_contrato'].value_counts(normalize=True).map('{:.2%}'.format))"
   ]
  },
  {
   "cell_type": "code",
   "execution_count": null,
   "metadata": {},
   "outputs": [],
   "source": [
    "# Analysis by contract period type group\n",
    "display(df.groupby('duracao_contrato').mean(numeric_only=True))\n",
    "\n",
    "# Monthly contracts have a cancellation mean of 100%"
   ]
  },
  {
   "cell_type": "code",
   "execution_count": null,
   "metadata": {},
   "outputs": [],
   "source": [
    "# Removing monthly contracts\n",
    "df = df[df['duracao_contrato']!='Monthly']\n",
    "display(df)\n",
    "display(df['cancelou'].value_counts())\n",
    "display(df['cancelou'].value_counts(normalize=True).map('{:.2%}'.format))"
   ]
  },
  {
   "cell_type": "code",
   "execution_count": null,
   "metadata": {},
   "outputs": [],
   "source": [
    "# Count and group by plan (assinatura) type\n",
    "display(df['assinatura'].value_counts(normalize=True))\n",
    "display(df.groupby('assinatura').mean(numeric_only=True))\n",
    "\n",
    "# 1/3 for each type, also similar cancellation values\n"
   ]
  },
  {
   "cell_type": "code",
   "execution_count": null,
   "metadata": {},
   "outputs": [],
   "source": [
    "# Creating graphs for better visualization and understanding\n",
    "import plotly.express as px\n",
    "\n",
    "for column in df.columns:\n",
    "    graph = px.histogram(df, x=column, color='cancelou', width=600)\n",
    "    graph.show()"
   ]
  },
  {
   "cell_type": "code",
   "execution_count": null,
   "metadata": {},
   "outputs": [],
   "source": [
    "# By looking at the graphs it is evident that:\n",
    "# dias_atraso (delayed payment days) above 20 days, 100% cancellation\n",
    "# ligacoes_callcenter (contacts) above 5, 100% cancellation\n",
    "\n",
    "df = df[df['ligacoes_callcenter']<5]\n",
    "df = df[df['dias_atraso']<=20]\n",
    "display(df)\n",
    "display(df['cancelou'].value_counts())\n",
    "display(df['cancelou'].value_counts(normalize=True).map('{:.2%}'.format))\n",
    "\n",
    "# Resolving this, the customers churn can drop to 18%\n",
    "# Of course 100% it's unreal, but now we see the main causes\n",
    "# - monthly contracts\n",
    "# - need to contact call center\n",
    "# - payment delays"
   ]
  }
 ],
 "metadata": {
  "kernelspec": {
   "display_name": ".venv",
   "language": "python",
   "name": "python3"
  },
  "language_info": {
   "codemirror_mode": {
    "name": "ipython",
    "version": 3
   },
   "file_extension": ".py",
   "mimetype": "text/x-python",
   "name": "python",
   "nbconvert_exporter": "python",
   "pygments_lexer": "ipython3",
   "version": "3.12.6"
  }
 },
 "nbformat": 4,
 "nbformat_minor": 2
}
